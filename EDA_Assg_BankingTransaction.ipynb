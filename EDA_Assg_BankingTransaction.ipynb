{
  "nbformat": 4,
  "nbformat_minor": 0,
  "metadata": {
    "colab": {
      "provenance": []
    },
    "kernelspec": {
      "name": "python3",
      "display_name": "Python 3"
    },
    "language_info": {
      "name": "python"
    }
  },
  "cells": [
    {
      "cell_type": "markdown",
      "source": [
        "**Assignment Submission Guidelines**\n",
        "\n",
        "**1. Submission Platform:**\n",
        "\n",
        "- Submit your completed assignment through Google Classroom.\n",
        "\n",
        "**2. Submission Format:**\n",
        "\n",
        "- Submit the Google Colab Notebook (.ipynb file) provided as the assignment template.\n",
        "- Do not create a new notebook. Fill in the provided template.\n",
        "\n",
        "**3. Template Completion:**\n",
        "\n",
        "The template notebook contains:\n",
        "- The code to generate the Banking Transaction csv datasets.\n",
        "- Placeholders for your code and explanations for each question.\n",
        "\n",
        "Follow the instructions within the template.\n",
        "- Code Cells:\n",
        "  - Place your code solutions directly in the designated code cells below each question.\n",
        "- Markdown Cells:\n",
        "  - Provide your explanations and justifications in the designated Markdown cells.\n",
        "- Report section:\n",
        "  - Complete the markdown section at the bottom of the notebook titled \"Report\".\n",
        "  - In this section, compile the explanation of each of the questions.\n",
        "  - Answer the following data analysis questions:\n",
        "    1.   What are the key characteristics of the customer and transaction data?\n",
        "    2. What are the main trends in customer spending?\n",
        "    3. How does customer age relate to transaction amounts\n",
        "    4. Identify and discuss any potential data quality issues\n",
        "    5. Provide 2-3 actionable business insights based on your analysis.\n",
        "\n",
        "- Do not modify the structure of the template notebook.\n",
        "\n",
        "**4. File Naming:**\n",
        "\n",
        "Ensure the file name remains as provided in the template. Do not rename the file.\n",
        "\n",
        "**5. Timely Submission:**\n",
        "\n",
        "- Submit your completed template notebook by the deadline: **24th of March, 2025**.\n",
        "- Late submissions will be penalized as follows:\n",
        "- Submissions within **5:00pm 26th of March, 2025**  will receive a maximum of 5 marks for timely submission.\n",
        "Submissions after  will receive 0 marks for timely submission.\n",
        "\n",
        "**6. Report:**\n",
        "\n",
        "- Complete the \"Report\" section at the end of your notebook.\n",
        "- Ensure your report is:\n",
        "  - Well-organized and easy to read.\n",
        "  - Clear and concise.\n",
        "  - Free of grammatical errors.\n",
        "\n",
        "**7. Code Execution:**\n",
        "\n",
        "Ensure your completed notebook runs without errors from top to bottom.\n",
        "Before submitting, restart the kernel and run all cells to confirm reproducibility.\n",
        "\n",
        "\n",
        "\n",
        "**8. Academic Integrity:**\n",
        "\n",
        "All work must be your own.\n",
        "Plagiarism will result in a failing grade.\n",
        "Cite any external resources you use.\n",
        "\n",
        "\n",
        "\n",
        "**Tips for Success:**\n",
        "\n",
        "- Start the assignment early.\n",
        "- Read the instructions within the template carefully.\n",
        "- Plan your approach before coding.\n",
        "- Test your code thoroughly.\n",
        "- Document your work clearly.\n",
        "- Review the rubrics to understand the grading criteria.\n"
      ],
      "metadata": {
        "id": "V5L5TLCTyWzp"
      }
    },
    {
      "cell_type": "markdown",
      "source": [
        "**Grading Rubrics:**\n",
        "\n",
        "Total 50 Marks\n",
        "\n",
        "- Timely Submission: 10 Marks\n",
        "- Report : 10 Marks\n",
        "- Level 1 (Basic Questions): 5 Marks (1 x 5 = 5)\n",
        "- Level 2 (Intermediate Questions): 10 Marks (2 x 5 = 10)\n",
        "- Level 3 (Advanced Questions): 15 Marks (3 x 5 = 15)"
      ],
      "metadata": {
        "id": "KuApPrY4xHsQ"
      }
    },
    {
      "cell_type": "markdown",
      "source": [
        "##**Assignment**"
      ],
      "metadata": {
        "id": "-160l66H1rRa"
      }
    },
    {
      "cell_type": "markdown",
      "source": [
        "**Background**\n",
        "\n",
        "You are a data analyst working for \"FinTech Insights,\" a consultancy specializing in data-driven financial analysis. FinTech Insights partners with banks, credit unions, and financial technology companies to optimize their operations and enhance customer experiences through in-depth data analysis. Your team has been assigned the task of analyzing a comprehensive dataset of banking transactions and customer details. This dataset, compiled from raw sources, contains information on a diverse group of bank customers, including their demographics, transaction histories, and account balances. Your goal is to leverage this data to uncover key patterns in customer behavior and identify opportunities for improved financial services. By identifying these trends, you can provide actionable recommendations to financial institutions for better customer engagement, risk management, and service optimization."
      ],
      "metadata": {
        "id": "5vHQVUMmoixt"
      }
    },
    {
      "cell_type": "code",
      "source": [
        "!pip install faker"
      ],
      "metadata": {
        "id": "PHbo-Z0no9mg",
        "outputId": "cf81fbe3-2680-4efe-ed8c-6e8a54f82ad4",
        "colab": {
          "base_uri": "https://localhost:8080/"
        }
      },
      "execution_count": 1,
      "outputs": [
        {
          "output_type": "stream",
          "name": "stdout",
          "text": [
            "Collecting faker\n",
            "  Downloading faker-37.0.2-py3-none-any.whl.metadata (15 kB)\n",
            "Requirement already satisfied: tzdata in /usr/local/lib/python3.11/dist-packages (from faker) (2025.1)\n",
            "Downloading faker-37.0.2-py3-none-any.whl (1.9 MB)\n",
            "\u001b[2K   \u001b[90m━━━━━━━━━━━━━━━━━━━━━━━━━━━━━━━━━━━━━━━━\u001b[0m \u001b[32m1.9/1.9 MB\u001b[0m \u001b[31m15.4 MB/s\u001b[0m eta \u001b[36m0:00:00\u001b[0m\n",
            "\u001b[?25hInstalling collected packages: faker\n",
            "Successfully installed faker-37.0.2\n"
          ]
        }
      ]
    },
    {
      "cell_type": "code",
      "execution_count": 2,
      "metadata": {
        "colab": {
          "base_uri": "https://localhost:8080/"
        },
        "id": "bKAhCN7Aeez7",
        "outputId": "10dc23a0-e280-4efd-e2a8-3bbd1d449218"
      },
      "outputs": [
        {
          "output_type": "stream",
          "name": "stdout",
          "text": [
            "Synthetic datasets generated: 'customers_raw.csv' and 'bank_transactions.csv'\n"
          ]
        }
      ],
      "source": [
        "import pandas as pd\n",
        "import numpy as np\n",
        "from faker import Faker\n",
        "import random\n",
        "\n",
        "# Initialize Faker\n",
        "fake = Faker()\n",
        "\n",
        "# Generate Customer Data\n",
        "df_customers = pd.DataFrame({\n",
        "    'customer_id': range(1, 101),\n",
        "    'name': [fake.name() for _ in range(100)],\n",
        "    'age': np.random.randint(18, 80, 100),\n",
        "    'gender': np.random.choice(['Male', 'Female', 'Other'], 100),\n",
        "    'email': [fake.email() for _ in range(100)],\n",
        "    'city': [fake.city() for _ in range(100)]\n",
        "})\n",
        "\n",
        "df_customers.to_csv('customers_raw.csv', index=False)\n",
        "\n",
        "# Generate Transaction Data\n",
        "df_transactions = pd.DataFrame({\n",
        "    'transaction_id': range(1, 501),\n",
        "    'customer_id': np.random.choice(df_customers['customer_id'], 500),\n",
        "    'transaction_date': [fake.date_this_decade() for _ in range(500)],\n",
        "    'transaction_type': np.random.choice(['Deposit', 'Withdrawal', 'Payment', 'Transfer'], 500),\n",
        "    'amount': np.round(np.random.uniform(100, 5000, 500), 2),\n",
        "    'balance_after_transaction': np.round(np.random.uniform(1000, 20000, 500), 2)\n",
        "})\n",
        "\n",
        "df_transactions.to_csv('bank_transactions.csv', index=False)\n",
        "\n",
        "print(\"Synthetic datasets generated: 'customers_raw.csv' and 'bank_transactions.csv'\")\n"
      ]
    },
    {
      "cell_type": "markdown",
      "source": [
        "**The Data**\n",
        "\n",
        "customers_raw.csv:\n",
        "  - customer_id: Unique identifier for each customer (integer).\n",
        "  - name: Full name of the customer (string).\n",
        "  - age: Age of the customer (integer).\n",
        "  - gender: Gender of the customer (string: Male, Female, Other).\n",
        "  - email: Email address of the customer (string).\n",
        "  - city: City where the customer resides (string).\n",
        "\n",
        "bank_transactions.csv:\n",
        "  - transaction_id: Unique identifier for each transaction (integer).\n",
        "  - customer_id: Identifier linking transactions to customers (integer).\n",
        "  - transaction_date: Date of the transaction (date/string).\n",
        "  - transaction_type: Type of transaction (string: Deposit, Withdrawal, Payment, Transfer).\n",
        "  - amount: Transaction amount (float).\n",
        "  - balance_after_transaction: Account balance after the transaction (float).\n"
      ],
      "metadata": {
        "id": "pffym1X7p6kb"
      }
    },
    {
      "cell_type": "markdown",
      "source": [
        "## **Basic (RBT Levels: 2, 3):**\n",
        "\n",
        "Total: 5 Marks\n",
        "\n",
        "Each Question Carry 1 Mark"
      ],
      "metadata": {
        "id": "IOGkhu55u7EP"
      }
    },
    {
      "cell_type": "markdown",
      "source": [
        "**Question 1. Data Loading and Initial Exploration:**\n",
        "\n",
        "- Load customers_raw.csv and bank_transactions.csv into Pandas DataFrames.\n",
        "- Display the first 5 rows and use .info() to display data types."
      ],
      "metadata": {
        "id": "VMuKMQsjqYRT"
      }
    },
    {
      "cell_type": "code",
      "source": [
        "# Question 1: Data Loading and Initial Exploration\n",
        "# Load customers_raw.csv and bank_transactions.csv into Pandas DataFrames.\n",
        "#Display the first 5 rows and use .info() to display data types.\n",
        "# Your Code Here:customer_df=pd.read_csv('customers_raw.csv')\n",
        "bank_df=pd.read_csv('bank_transactions.csv')\n",
        "customer_df=pd.read_csv('customers_raw.csv')\n",
        "customer_df.head(5)\n",
        "customer_df.info()\n",
        "bank_df.head(5)\n",
        "bank_df.info()"
      ],
      "metadata": {
        "id": "xin7rfJiqz5x",
        "outputId": "e8d80843-600d-4e29-d4c0-320282732646",
        "colab": {
          "base_uri": "https://localhost:8080/"
        }
      },
      "execution_count": 4,
      "outputs": [
        {
          "output_type": "stream",
          "name": "stdout",
          "text": [
            "<class 'pandas.core.frame.DataFrame'>\n",
            "RangeIndex: 100 entries, 0 to 99\n",
            "Data columns (total 6 columns):\n",
            " #   Column       Non-Null Count  Dtype \n",
            "---  ------       --------------  ----- \n",
            " 0   customer_id  100 non-null    int64 \n",
            " 1   name         100 non-null    object\n",
            " 2   age          100 non-null    int64 \n",
            " 3   gender       100 non-null    object\n",
            " 4   email        100 non-null    object\n",
            " 5   city         100 non-null    object\n",
            "dtypes: int64(2), object(4)\n",
            "memory usage: 4.8+ KB\n",
            "<class 'pandas.core.frame.DataFrame'>\n",
            "RangeIndex: 500 entries, 0 to 499\n",
            "Data columns (total 6 columns):\n",
            " #   Column                     Non-Null Count  Dtype  \n",
            "---  ------                     --------------  -----  \n",
            " 0   transaction_id             500 non-null    int64  \n",
            " 1   customer_id                500 non-null    int64  \n",
            " 2   transaction_date           500 non-null    object \n",
            " 3   transaction_type           500 non-null    object \n",
            " 4   amount                     500 non-null    float64\n",
            " 5   balance_after_transaction  500 non-null    float64\n",
            "dtypes: float64(2), int64(2), object(2)\n",
            "memory usage: 23.6+ KB\n"
          ]
        }
      ]
    },
    {
      "cell_type": "markdown",
      "source": [
        "**Explanation**\n",
        "\n",
        "[Your explanation here]"
      ],
      "metadata": {
        "id": "nk4VmK0Iq1Zh"
      }
    },
    {
      "cell_type": "markdown",
      "source": [
        "**Question 2: Data Merging:**\n",
        "\n",
        "- Merge the two datasets using an inner join on customer_id.\n",
        "- Display the first 5 rows of the merged DataFrame."
      ],
      "metadata": {
        "id": "Xid0fq3aq-oa"
      }
    },
    {
      "cell_type": "code",
      "source": [
        "# Question 2: Data Merging\n",
        "# Merge the two datasets using an inner join on customer_id.\n",
        "# Display the first 5 rows of the merged DataFrame.\n",
        "# Your Code Here:\n",
        "merged_df=pd.merge(customer_df,bank_df,on='customer_id',how='inner')\n",
        "merged_df.head()"
      ],
      "metadata": {
        "id": "UtiTeJ6kq-_C",
        "outputId": "698a5f68-4999-4af5-becd-745bf1c033c6",
        "colab": {
          "base_uri": "https://localhost:8080/",
          "height": 206
        }
      },
      "execution_count": 5,
      "outputs": [
        {
          "output_type": "execute_result",
          "data": {
            "text/plain": [
              "   customer_id           name  age  gender                     email  \\\n",
              "0            1   Laura Harris   31  Female       qcortez@example.net   \n",
              "1            1   Laura Harris   31  Female       qcortez@example.net   \n",
              "2            1   Laura Harris   31  Female       qcortez@example.net   \n",
              "3            2  Pamela Dennis   44    Male  freemanjesus@example.net   \n",
              "4            2  Pamela Dennis   44    Male  freemanjesus@example.net   \n",
              "\n",
              "             city  transaction_id transaction_date transaction_type   amount  \\\n",
              "0  Port Leahmouth               3       2022-02-09       Withdrawal  2191.26   \n",
              "1  Port Leahmouth              20       2020-04-17          Payment  2250.22   \n",
              "2  Port Leahmouth             284       2023-03-02          Deposit  4318.68   \n",
              "3    North Monica               5       2022-11-16       Withdrawal   856.54   \n",
              "4    North Monica             125       2023-05-11          Deposit  2975.32   \n",
              "\n",
              "   balance_after_transaction  \n",
              "0                   10981.19  \n",
              "1                    9712.76  \n",
              "2                    5787.88  \n",
              "3                   16911.81  \n",
              "4                    7964.08  "
            ],
            "text/html": [
              "\n",
              "  <div id=\"df-b0d6af8e-c797-48f8-9f9d-5696112c1da1\" class=\"colab-df-container\">\n",
              "    <div>\n",
              "<style scoped>\n",
              "    .dataframe tbody tr th:only-of-type {\n",
              "        vertical-align: middle;\n",
              "    }\n",
              "\n",
              "    .dataframe tbody tr th {\n",
              "        vertical-align: top;\n",
              "    }\n",
              "\n",
              "    .dataframe thead th {\n",
              "        text-align: right;\n",
              "    }\n",
              "</style>\n",
              "<table border=\"1\" class=\"dataframe\">\n",
              "  <thead>\n",
              "    <tr style=\"text-align: right;\">\n",
              "      <th></th>\n",
              "      <th>customer_id</th>\n",
              "      <th>name</th>\n",
              "      <th>age</th>\n",
              "      <th>gender</th>\n",
              "      <th>email</th>\n",
              "      <th>city</th>\n",
              "      <th>transaction_id</th>\n",
              "      <th>transaction_date</th>\n",
              "      <th>transaction_type</th>\n",
              "      <th>amount</th>\n",
              "      <th>balance_after_transaction</th>\n",
              "    </tr>\n",
              "  </thead>\n",
              "  <tbody>\n",
              "    <tr>\n",
              "      <th>0</th>\n",
              "      <td>1</td>\n",
              "      <td>Laura Harris</td>\n",
              "      <td>31</td>\n",
              "      <td>Female</td>\n",
              "      <td>qcortez@example.net</td>\n",
              "      <td>Port Leahmouth</td>\n",
              "      <td>3</td>\n",
              "      <td>2022-02-09</td>\n",
              "      <td>Withdrawal</td>\n",
              "      <td>2191.26</td>\n",
              "      <td>10981.19</td>\n",
              "    </tr>\n",
              "    <tr>\n",
              "      <th>1</th>\n",
              "      <td>1</td>\n",
              "      <td>Laura Harris</td>\n",
              "      <td>31</td>\n",
              "      <td>Female</td>\n",
              "      <td>qcortez@example.net</td>\n",
              "      <td>Port Leahmouth</td>\n",
              "      <td>20</td>\n",
              "      <td>2020-04-17</td>\n",
              "      <td>Payment</td>\n",
              "      <td>2250.22</td>\n",
              "      <td>9712.76</td>\n",
              "    </tr>\n",
              "    <tr>\n",
              "      <th>2</th>\n",
              "      <td>1</td>\n",
              "      <td>Laura Harris</td>\n",
              "      <td>31</td>\n",
              "      <td>Female</td>\n",
              "      <td>qcortez@example.net</td>\n",
              "      <td>Port Leahmouth</td>\n",
              "      <td>284</td>\n",
              "      <td>2023-03-02</td>\n",
              "      <td>Deposit</td>\n",
              "      <td>4318.68</td>\n",
              "      <td>5787.88</td>\n",
              "    </tr>\n",
              "    <tr>\n",
              "      <th>3</th>\n",
              "      <td>2</td>\n",
              "      <td>Pamela Dennis</td>\n",
              "      <td>44</td>\n",
              "      <td>Male</td>\n",
              "      <td>freemanjesus@example.net</td>\n",
              "      <td>North Monica</td>\n",
              "      <td>5</td>\n",
              "      <td>2022-11-16</td>\n",
              "      <td>Withdrawal</td>\n",
              "      <td>856.54</td>\n",
              "      <td>16911.81</td>\n",
              "    </tr>\n",
              "    <tr>\n",
              "      <th>4</th>\n",
              "      <td>2</td>\n",
              "      <td>Pamela Dennis</td>\n",
              "      <td>44</td>\n",
              "      <td>Male</td>\n",
              "      <td>freemanjesus@example.net</td>\n",
              "      <td>North Monica</td>\n",
              "      <td>125</td>\n",
              "      <td>2023-05-11</td>\n",
              "      <td>Deposit</td>\n",
              "      <td>2975.32</td>\n",
              "      <td>7964.08</td>\n",
              "    </tr>\n",
              "  </tbody>\n",
              "</table>\n",
              "</div>\n",
              "    <div class=\"colab-df-buttons\">\n",
              "\n",
              "  <div class=\"colab-df-container\">\n",
              "    <button class=\"colab-df-convert\" onclick=\"convertToInteractive('df-b0d6af8e-c797-48f8-9f9d-5696112c1da1')\"\n",
              "            title=\"Convert this dataframe to an interactive table.\"\n",
              "            style=\"display:none;\">\n",
              "\n",
              "  <svg xmlns=\"http://www.w3.org/2000/svg\" height=\"24px\" viewBox=\"0 -960 960 960\">\n",
              "    <path d=\"M120-120v-720h720v720H120Zm60-500h600v-160H180v160Zm220 220h160v-160H400v160Zm0 220h160v-160H400v160ZM180-400h160v-160H180v160Zm440 0h160v-160H620v160ZM180-180h160v-160H180v160Zm440 0h160v-160H620v160Z\"/>\n",
              "  </svg>\n",
              "    </button>\n",
              "\n",
              "  <style>\n",
              "    .colab-df-container {\n",
              "      display:flex;\n",
              "      gap: 12px;\n",
              "    }\n",
              "\n",
              "    .colab-df-convert {\n",
              "      background-color: #E8F0FE;\n",
              "      border: none;\n",
              "      border-radius: 50%;\n",
              "      cursor: pointer;\n",
              "      display: none;\n",
              "      fill: #1967D2;\n",
              "      height: 32px;\n",
              "      padding: 0 0 0 0;\n",
              "      width: 32px;\n",
              "    }\n",
              "\n",
              "    .colab-df-convert:hover {\n",
              "      background-color: #E2EBFA;\n",
              "      box-shadow: 0px 1px 2px rgba(60, 64, 67, 0.3), 0px 1px 3px 1px rgba(60, 64, 67, 0.15);\n",
              "      fill: #174EA6;\n",
              "    }\n",
              "\n",
              "    .colab-df-buttons div {\n",
              "      margin-bottom: 4px;\n",
              "    }\n",
              "\n",
              "    [theme=dark] .colab-df-convert {\n",
              "      background-color: #3B4455;\n",
              "      fill: #D2E3FC;\n",
              "    }\n",
              "\n",
              "    [theme=dark] .colab-df-convert:hover {\n",
              "      background-color: #434B5C;\n",
              "      box-shadow: 0px 1px 3px 1px rgba(0, 0, 0, 0.15);\n",
              "      filter: drop-shadow(0px 1px 2px rgba(0, 0, 0, 0.3));\n",
              "      fill: #FFFFFF;\n",
              "    }\n",
              "  </style>\n",
              "\n",
              "    <script>\n",
              "      const buttonEl =\n",
              "        document.querySelector('#df-b0d6af8e-c797-48f8-9f9d-5696112c1da1 button.colab-df-convert');\n",
              "      buttonEl.style.display =\n",
              "        google.colab.kernel.accessAllowed ? 'block' : 'none';\n",
              "\n",
              "      async function convertToInteractive(key) {\n",
              "        const element = document.querySelector('#df-b0d6af8e-c797-48f8-9f9d-5696112c1da1');\n",
              "        const dataTable =\n",
              "          await google.colab.kernel.invokeFunction('convertToInteractive',\n",
              "                                                    [key], {});\n",
              "        if (!dataTable) return;\n",
              "\n",
              "        const docLinkHtml = 'Like what you see? Visit the ' +\n",
              "          '<a target=\"_blank\" href=https://colab.research.google.com/notebooks/data_table.ipynb>data table notebook</a>'\n",
              "          + ' to learn more about interactive tables.';\n",
              "        element.innerHTML = '';\n",
              "        dataTable['output_type'] = 'display_data';\n",
              "        await google.colab.output.renderOutput(dataTable, element);\n",
              "        const docLink = document.createElement('div');\n",
              "        docLink.innerHTML = docLinkHtml;\n",
              "        element.appendChild(docLink);\n",
              "      }\n",
              "    </script>\n",
              "  </div>\n",
              "\n",
              "\n",
              "<div id=\"df-cc252079-7d12-4a0b-936d-4b3a68169601\">\n",
              "  <button class=\"colab-df-quickchart\" onclick=\"quickchart('df-cc252079-7d12-4a0b-936d-4b3a68169601')\"\n",
              "            title=\"Suggest charts\"\n",
              "            style=\"display:none;\">\n",
              "\n",
              "<svg xmlns=\"http://www.w3.org/2000/svg\" height=\"24px\"viewBox=\"0 0 24 24\"\n",
              "     width=\"24px\">\n",
              "    <g>\n",
              "        <path d=\"M19 3H5c-1.1 0-2 .9-2 2v14c0 1.1.9 2 2 2h14c1.1 0 2-.9 2-2V5c0-1.1-.9-2-2-2zM9 17H7v-7h2v7zm4 0h-2V7h2v10zm4 0h-2v-4h2v4z\"/>\n",
              "    </g>\n",
              "</svg>\n",
              "  </button>\n",
              "\n",
              "<style>\n",
              "  .colab-df-quickchart {\n",
              "      --bg-color: #E8F0FE;\n",
              "      --fill-color: #1967D2;\n",
              "      --hover-bg-color: #E2EBFA;\n",
              "      --hover-fill-color: #174EA6;\n",
              "      --disabled-fill-color: #AAA;\n",
              "      --disabled-bg-color: #DDD;\n",
              "  }\n",
              "\n",
              "  [theme=dark] .colab-df-quickchart {\n",
              "      --bg-color: #3B4455;\n",
              "      --fill-color: #D2E3FC;\n",
              "      --hover-bg-color: #434B5C;\n",
              "      --hover-fill-color: #FFFFFF;\n",
              "      --disabled-bg-color: #3B4455;\n",
              "      --disabled-fill-color: #666;\n",
              "  }\n",
              "\n",
              "  .colab-df-quickchart {\n",
              "    background-color: var(--bg-color);\n",
              "    border: none;\n",
              "    border-radius: 50%;\n",
              "    cursor: pointer;\n",
              "    display: none;\n",
              "    fill: var(--fill-color);\n",
              "    height: 32px;\n",
              "    padding: 0;\n",
              "    width: 32px;\n",
              "  }\n",
              "\n",
              "  .colab-df-quickchart:hover {\n",
              "    background-color: var(--hover-bg-color);\n",
              "    box-shadow: 0 1px 2px rgba(60, 64, 67, 0.3), 0 1px 3px 1px rgba(60, 64, 67, 0.15);\n",
              "    fill: var(--button-hover-fill-color);\n",
              "  }\n",
              "\n",
              "  .colab-df-quickchart-complete:disabled,\n",
              "  .colab-df-quickchart-complete:disabled:hover {\n",
              "    background-color: var(--disabled-bg-color);\n",
              "    fill: var(--disabled-fill-color);\n",
              "    box-shadow: none;\n",
              "  }\n",
              "\n",
              "  .colab-df-spinner {\n",
              "    border: 2px solid var(--fill-color);\n",
              "    border-color: transparent;\n",
              "    border-bottom-color: var(--fill-color);\n",
              "    animation:\n",
              "      spin 1s steps(1) infinite;\n",
              "  }\n",
              "\n",
              "  @keyframes spin {\n",
              "    0% {\n",
              "      border-color: transparent;\n",
              "      border-bottom-color: var(--fill-color);\n",
              "      border-left-color: var(--fill-color);\n",
              "    }\n",
              "    20% {\n",
              "      border-color: transparent;\n",
              "      border-left-color: var(--fill-color);\n",
              "      border-top-color: var(--fill-color);\n",
              "    }\n",
              "    30% {\n",
              "      border-color: transparent;\n",
              "      border-left-color: var(--fill-color);\n",
              "      border-top-color: var(--fill-color);\n",
              "      border-right-color: var(--fill-color);\n",
              "    }\n",
              "    40% {\n",
              "      border-color: transparent;\n",
              "      border-right-color: var(--fill-color);\n",
              "      border-top-color: var(--fill-color);\n",
              "    }\n",
              "    60% {\n",
              "      border-color: transparent;\n",
              "      border-right-color: var(--fill-color);\n",
              "    }\n",
              "    80% {\n",
              "      border-color: transparent;\n",
              "      border-right-color: var(--fill-color);\n",
              "      border-bottom-color: var(--fill-color);\n",
              "    }\n",
              "    90% {\n",
              "      border-color: transparent;\n",
              "      border-bottom-color: var(--fill-color);\n",
              "    }\n",
              "  }\n",
              "</style>\n",
              "\n",
              "  <script>\n",
              "    async function quickchart(key) {\n",
              "      const quickchartButtonEl =\n",
              "        document.querySelector('#' + key + ' button');\n",
              "      quickchartButtonEl.disabled = true;  // To prevent multiple clicks.\n",
              "      quickchartButtonEl.classList.add('colab-df-spinner');\n",
              "      try {\n",
              "        const charts = await google.colab.kernel.invokeFunction(\n",
              "            'suggestCharts', [key], {});\n",
              "      } catch (error) {\n",
              "        console.error('Error during call to suggestCharts:', error);\n",
              "      }\n",
              "      quickchartButtonEl.classList.remove('colab-df-spinner');\n",
              "      quickchartButtonEl.classList.add('colab-df-quickchart-complete');\n",
              "    }\n",
              "    (() => {\n",
              "      let quickchartButtonEl =\n",
              "        document.querySelector('#df-cc252079-7d12-4a0b-936d-4b3a68169601 button');\n",
              "      quickchartButtonEl.style.display =\n",
              "        google.colab.kernel.accessAllowed ? 'block' : 'none';\n",
              "    })();\n",
              "  </script>\n",
              "</div>\n",
              "\n",
              "    </div>\n",
              "  </div>\n"
            ],
            "application/vnd.google.colaboratory.intrinsic+json": {
              "type": "dataframe",
              "variable_name": "merged_df",
              "summary": "{\n  \"name\": \"merged_df\",\n  \"rows\": 500,\n  \"fields\": [\n    {\n      \"column\": \"customer_id\",\n      \"properties\": {\n        \"dtype\": \"number\",\n        \"std\": 28,\n        \"min\": 1,\n        \"max\": 100,\n        \"num_unique_values\": 100,\n        \"samples\": [\n          84,\n          54,\n          71\n        ],\n        \"semantic_type\": \"\",\n        \"description\": \"\"\n      }\n    },\n    {\n      \"column\": \"name\",\n      \"properties\": {\n        \"dtype\": \"category\",\n        \"num_unique_values\": 100,\n        \"samples\": [\n          \"Sheila Wong\",\n          \"Kevin Blair\",\n          \"Michael Brady\"\n        ],\n        \"semantic_type\": \"\",\n        \"description\": \"\"\n      }\n    },\n    {\n      \"column\": \"age\",\n      \"properties\": {\n        \"dtype\": \"number\",\n        \"std\": 15,\n        \"min\": 18,\n        \"max\": 78,\n        \"num_unique_values\": 51,\n        \"samples\": [\n          74,\n          24,\n          66\n        ],\n        \"semantic_type\": \"\",\n        \"description\": \"\"\n      }\n    },\n    {\n      \"column\": \"gender\",\n      \"properties\": {\n        \"dtype\": \"category\",\n        \"num_unique_values\": 3,\n        \"samples\": [\n          \"Female\",\n          \"Male\",\n          \"Other\"\n        ],\n        \"semantic_type\": \"\",\n        \"description\": \"\"\n      }\n    },\n    {\n      \"column\": \"email\",\n      \"properties\": {\n        \"dtype\": \"category\",\n        \"num_unique_values\": 100,\n        \"samples\": [\n          \"kevin85@example.net\",\n          \"smithangela@example.net\",\n          \"bcarson@example.net\"\n        ],\n        \"semantic_type\": \"\",\n        \"description\": \"\"\n      }\n    },\n    {\n      \"column\": \"city\",\n      \"properties\": {\n        \"dtype\": \"category\",\n        \"num_unique_values\": 99,\n        \"samples\": [\n          \"Williamschester\",\n          \"New Hannah\",\n          \"Cookhaven\"\n        ],\n        \"semantic_type\": \"\",\n        \"description\": \"\"\n      }\n    },\n    {\n      \"column\": \"transaction_id\",\n      \"properties\": {\n        \"dtype\": \"number\",\n        \"std\": 144,\n        \"min\": 1,\n        \"max\": 500,\n        \"num_unique_values\": 500,\n        \"samples\": [\n          184,\n          283,\n          479\n        ],\n        \"semantic_type\": \"\",\n        \"description\": \"\"\n      }\n    },\n    {\n      \"column\": \"transaction_date\",\n      \"properties\": {\n        \"dtype\": \"object\",\n        \"num_unique_values\": 442,\n        \"samples\": [\n          \"2021-02-15\",\n          \"2023-07-05\",\n          \"2025-03-09\"\n        ],\n        \"semantic_type\": \"\",\n        \"description\": \"\"\n      }\n    },\n    {\n      \"column\": \"transaction_type\",\n      \"properties\": {\n        \"dtype\": \"category\",\n        \"num_unique_values\": 4,\n        \"samples\": [\n          \"Payment\",\n          \"Transfer\",\n          \"Withdrawal\"\n        ],\n        \"semantic_type\": \"\",\n        \"description\": \"\"\n      }\n    },\n    {\n      \"column\": \"amount\",\n      \"properties\": {\n        \"dtype\": \"number\",\n        \"std\": 1418.609219107074,\n        \"min\": 102.2,\n        \"max\": 4997.94,\n        \"num_unique_values\": 500,\n        \"samples\": [\n          3505.78,\n          2361.76,\n          933.6\n        ],\n        \"semantic_type\": \"\",\n        \"description\": \"\"\n      }\n    },\n    {\n      \"column\": \"balance_after_transaction\",\n      \"properties\": {\n        \"dtype\": \"number\",\n        \"std\": 5344.321282120838,\n        \"min\": 1042.47,\n        \"max\": 19996.2,\n        \"num_unique_values\": 500,\n        \"samples\": [\n          10212.03,\n          7124.56,\n          10740.67\n        ],\n        \"semantic_type\": \"\",\n        \"description\": \"\"\n      }\n    }\n  ]\n}"
            }
          },
          "metadata": {},
          "execution_count": 5
        }
      ]
    },
    {
      "cell_type": "markdown",
      "source": [
        "**Explanation**\n",
        "\n",
        "[Your explanation here]"
      ],
      "metadata": {
        "id": "RXbg4fFprMXX"
      }
    },
    {
      "cell_type": "markdown",
      "source": [
        "**Question 3: Missing Value Identification:**\n",
        "\n",
        "Identify columns with missing values and report the count of missing values in each."
      ],
      "metadata": {
        "id": "eb4SIFzUrTMn"
      }
    },
    {
      "cell_type": "code",
      "source": [
        "# Question 3: Missing Value Identification\n",
        "# Identify columns with missing values and report the count of missing values in each.\n",
        "# Your Code Here:"
      ],
      "metadata": {
        "id": "2NA2q68ErZi8"
      },
      "execution_count": null,
      "outputs": []
    },
    {
      "cell_type": "markdown",
      "source": [
        "**Explanation**\n",
        "\n",
        "[Your explanation here]"
      ],
      "metadata": {
        "id": "Br74aBGIrbYU"
      }
    },
    {
      "cell_type": "markdown",
      "source": [
        "**Question 4: Duplicate Row Removal:**\n",
        "\n",
        "Check for and remove any duplicate rows in the bank_transactions.csv DataFrame.\n"
      ],
      "metadata": {
        "id": "E-2eKwwgrfyc"
      }
    },
    {
      "cell_type": "code",
      "source": [
        "# Question 4: Duplicate Row Removal\n",
        "# Check for and remove any duplicate rows in the bank_transactions.csv DataFrame.\n",
        "#Your Code Here:"
      ],
      "metadata": {
        "id": "Tw9EU-BereyX"
      },
      "execution_count": null,
      "outputs": []
    },
    {
      "cell_type": "markdown",
      "source": [
        "**Explanation**\n",
        "\n",
        "[Your explanation here]"
      ],
      "metadata": {
        "id": "iyQnG0LyrnKv"
      }
    },
    {
      "cell_type": "markdown",
      "source": [
        "**Question 5: Column Renaming:**\n",
        "\n",
        "Rename the amount column in bank_transactions.csv to transaction_amount."
      ],
      "metadata": {
        "id": "N1A9gc4rrokI"
      }
    },
    {
      "cell_type": "code",
      "source": [
        "# Question 5: Column Renaming\n",
        "# Rename the amount column in bank_transactions.csv to transaction_amount.\n",
        "# Your Code Here:"
      ],
      "metadata": {
        "id": "w_ZJDkUKrs6p"
      },
      "execution_count": null,
      "outputs": []
    },
    {
      "cell_type": "markdown",
      "source": [
        "**Explanation**\n",
        "\n",
        "[Your explanation here]"
      ],
      "metadata": {
        "id": "yI-gGOm9rt30"
      }
    },
    {
      "cell_type": "markdown",
      "source": [
        "##**Intermediate (RBT Levels: 3, 4):**\n",
        "\n",
        "Total: 10 Marks\n",
        "\n",
        "Each Question Carry 2 Marks\n",
        "\n"
      ],
      "metadata": {
        "id": "YFGbvgbHrwQG"
      }
    },
    {
      "cell_type": "markdown",
      "source": [
        "**Question 6: Missing Value Imputation:**\n",
        "\n",
        "Impute missing values in the age column with the median age.\n",
        "\n"
      ],
      "metadata": {
        "id": "KKS8BMOkr5JQ"
      }
    },
    {
      "cell_type": "code",
      "source": [
        "# Question 6: Missing Value Imputation\n",
        "# Impute missing values in the age column with the median age.\n",
        "# Your Code Here:"
      ],
      "metadata": {
        "id": "lXoU0J9er4m2"
      },
      "execution_count": null,
      "outputs": []
    },
    {
      "cell_type": "markdown",
      "source": [
        "**Explanation**\n",
        "\n",
        "[Your explanation here]"
      ],
      "metadata": {
        "id": "EGhDjPDKsG--"
      }
    },
    {
      "cell_type": "markdown",
      "source": [
        "Impute missing values in the email column with a placeholder string \"[email address removed]\".\n"
      ],
      "metadata": {
        "id": "V9kzr552sKaq"
      }
    },
    {
      "cell_type": "code",
      "source": [
        "# Impute missing values in the email column with a placeholder string \"[email address removed]\".\n",
        "# Your Code Here:"
      ],
      "metadata": {
        "id": "Mkktkt2_sUnB"
      },
      "execution_count": null,
      "outputs": []
    },
    {
      "cell_type": "markdown",
      "source": [
        "**Explanation**\n",
        "\n",
        "[Your explanation here]"
      ],
      "metadata": {
        "id": "ck8KxO5tsWkR"
      }
    },
    {
      "cell_type": "markdown",
      "source": [
        "**Question 7: Categorical Data Conversion:**\n",
        "\n",
        "Convert the gender column to numerical values (e.g., Male=0, Female=1, Other=2)."
      ],
      "metadata": {
        "id": "GK7ssffVscGc"
      }
    },
    {
      "cell_type": "code",
      "source": [
        "# Categorical Data Conversion\n",
        "\n",
        "# Convert the gender column to numerical values (e.g., Male=0, Female=1, Other=2).\n",
        "# Your Code Here:"
      ],
      "metadata": {
        "id": "z5-tC9AIshsR"
      },
      "execution_count": null,
      "outputs": []
    },
    {
      "cell_type": "markdown",
      "source": [
        "**Explanation**\n",
        "\n",
        "[Your explanation here]"
      ],
      "metadata": {
        "id": "Cp8XZjXdsihR"
      }
    },
    {
      "cell_type": "markdown",
      "source": [
        "**Question 8: String Manipulation:**\n",
        "\n",
        "Extract the domain name from the email column and create a new column called email_domain."
      ],
      "metadata": {
        "id": "ln2oQTezs2tM"
      }
    },
    {
      "cell_type": "code",
      "source": [
        "# Question 8: String Manipulation:\n",
        "# Extract the domain name from the email column and create a new column called email_domain.\n",
        "# Your Code Here:"
      ],
      "metadata": {
        "id": "pkzXo2WGs6Cj"
      },
      "execution_count": null,
      "outputs": []
    },
    {
      "cell_type": "markdown",
      "source": [
        "**Explanation**\n",
        "\n",
        "[Your explanation here]"
      ],
      "metadata": {
        "id": "Ye8S33-ks7-Z"
      }
    },
    {
      "cell_type": "markdown",
      "source": [
        "**Question 9: Discretization and Binning:**\n",
        "\n",
        "Create a new categorical column called amount_category by binning the transaction_amount into \"Low\", \"Medium\", and \"High\" categories.\n"
      ],
      "metadata": {
        "id": "zWebkA95tBAx"
      }
    },
    {
      "cell_type": "code",
      "source": [
        "# Discretization and Binning\n",
        "# Create a new categorical column called amount_category by binning the transaction_amount into \"Low\", \"Medium\", and \"High\" categories.\n",
        "# Your Code Here:"
      ],
      "metadata": {
        "id": "KSphwJ3atEnM"
      },
      "execution_count": null,
      "outputs": []
    },
    {
      "cell_type": "markdown",
      "source": [
        "**Explanation**\n",
        "\n",
        "[Your explanation here]"
      ],
      "metadata": {
        "id": "lY2kWLUttFnK"
      }
    },
    {
      "cell_type": "markdown",
      "source": [
        "**Question 10: Outlier Detection:**\n",
        "\n",
        "Use the IQR method to identify outliers in the transaction_amount column.\n"
      ],
      "metadata": {
        "id": "Co_40ItytK66"
      }
    },
    {
      "cell_type": "code",
      "source": [
        "# Question 10: Dummy Variable Creation and Stacked Bar Plot\n",
        "# Create dummy variables for the 'Gender' and 'SchoolType' columns. Explain how dummy variables are used in data analysis. Create a stacked bar plot to visualize the distribution of 'Gender' within each 'SchoolType'.\n",
        "# Your Code Here:"
      ],
      "metadata": {
        "id": "Dfu0AxIDtOVh"
      },
      "execution_count": null,
      "outputs": []
    },
    {
      "cell_type": "markdown",
      "source": [
        "**Explanation**\n",
        "\n",
        "[Your explanation here]"
      ],
      "metadata": {
        "id": "WcqeN9MUtQZv"
      }
    },
    {
      "cell_type": "markdown",
      "source": [
        "##**Advanced (RBT Levels: 4, 5):**\n",
        "\n",
        "Total: 15 Marks\n",
        "\n",
        "Each Question Carry 3 Marks"
      ],
      "metadata": {
        "id": "QpPOrEp6tSh8"
      }
    },
    {
      "cell_type": "markdown",
      "source": [
        "**Question 11: Grouped Aggregation:**\n",
        "\n",
        "Group transactions by customer_id and calculate the total spending for each customer."
      ],
      "metadata": {
        "id": "dT7J-qPDtZEa"
      }
    },
    {
      "cell_type": "code",
      "source": [
        "# Question 11: Grouped Aggregation\n",
        "# Group transactions by customer_id and calculate the total spending for each customer.\n",
        "# Your Code Here:"
      ],
      "metadata": {
        "id": "VUpVUV8Gtc_r"
      },
      "execution_count": null,
      "outputs": []
    },
    {
      "cell_type": "markdown",
      "source": [
        "**Explanation**\n",
        "\n",
        "[Your explanation here]"
      ],
      "metadata": {
        "id": "Z-4SlRaKtgMi"
      }
    },
    {
      "cell_type": "markdown",
      "source": [
        "**Question 12: Grouped Transformation**\n",
        "\n",
        "Normalize the transaction_amount within each transaction_type category using z-scores.\n"
      ],
      "metadata": {
        "id": "ujJXl0QctiUE"
      }
    },
    {
      "cell_type": "code",
      "source": [
        "# Question 12: Grouped Transformation\n",
        "# Normalize the transaction_amount within each transaction_type category using z-scores.\n",
        "# Your Code Here:"
      ],
      "metadata": {
        "id": "Dz_PEI1QtmcA"
      },
      "execution_count": null,
      "outputs": []
    },
    {
      "cell_type": "markdown",
      "source": [
        "**Explanation**\n",
        "\n",
        "[Your explanation here]"
      ],
      "metadata": {
        "id": "hA24kA1StoZw"
      }
    },
    {
      "cell_type": "markdown",
      "source": [
        "**Question 13: Time Series Analysis**\n",
        "\n",
        "- Convert transaction_date to datetime objects.\n",
        "- Group transactions by month and calculate the average transaction_amount for each month.\n"
      ],
      "metadata": {
        "id": "xgidKP7zts6U"
      }
    },
    {
      "cell_type": "code",
      "source": [
        "# Question 13: Time Series Analysis\n",
        "# Convert transaction_date to datetime objects.\n",
        "# Group transactions by month and calculate the average transaction_amount for each month.\n",
        "# Your Code Here:"
      ],
      "metadata": {
        "id": "LDRMBxYItv9H"
      },
      "execution_count": null,
      "outputs": []
    },
    {
      "cell_type": "markdown",
      "source": [
        "**Explanation**\n",
        "\n",
        "[Your explanation here]"
      ],
      "metadata": {
        "id": "bJMyhZ_ZtwxT"
      }
    },
    {
      "cell_type": "markdown",
      "source": [
        "**Question 14: Correlation Analysis**\n",
        "\n",
        "- Calculate the correlation between age and transaction_amount.\n",
        "- Calculate the correlation between transaction amount and numerical gender."
      ],
      "metadata": {
        "id": "RCGnLcnit1Tb"
      }
    },
    {
      "cell_type": "code",
      "source": [
        "# Question 14: Correlation Analysis\n",
        "# Calculate the correlation between age and transaction_amount.\n",
        "# Calculate the correlation between transaction amount and numerical gender.\n",
        "# Your Code Here:"
      ],
      "metadata": {
        "id": "vR04KOlgt7y2"
      },
      "execution_count": null,
      "outputs": []
    },
    {
      "cell_type": "markdown",
      "source": [
        "**Explanation**\n",
        "\n",
        "[Your explanation here]"
      ],
      "metadata": {
        "id": "YvQ4rx57t8fi"
      }
    },
    {
      "cell_type": "markdown",
      "source": [
        "**Question 15: Conditional Logic and Feature Engineering:**\n",
        "\n",
        "Create a new column called high_spending_customer that indicates whether a customer's total spending is above a certain threshold."
      ],
      "metadata": {
        "id": "hHpgcuoXuAuP"
      }
    },
    {
      "cell_type": "code",
      "source": [
        "# Question 15: Conditional Logic and Feature Engineering\n",
        "# Create a new column called high_spending_customer that indicates whether a customer's total spending is above a certain threshold.\n",
        "# Your Code Here:"
      ],
      "metadata": {
        "id": "tNQaFiZUuFMl"
      },
      "execution_count": null,
      "outputs": []
    },
    {
      "cell_type": "markdown",
      "source": [
        "**Explanation**\n",
        "\n",
        "[Your explanation here]"
      ],
      "metadata": {
        "id": "GvD9l0ICuFuq"
      }
    },
    {
      "cell_type": "markdown",
      "source": [
        "**Report**\n",
        "\n",
        "**Part 1**\n",
        "\n",
        "- In this section, compile the explanation of each of the questions.\n",
        "\n",
        "**Part 2**\n",
        "\n",
        "- Answer the following data analysis questions:\n",
        "  1. What are the key characteristics of the customer and transaction data?\n",
        "  2. What are the main trends in customer spending?\n",
        "  3. How does customer age relate to transaction amounts\n",
        "  4. Identify and discuss any potential data quality issues\n",
        "  5. Provide 2-3 actionable business insights based on your analysis."
      ],
      "metadata": {
        "id": "SkaQA3LKzVT9"
      }
    }
  ]
}